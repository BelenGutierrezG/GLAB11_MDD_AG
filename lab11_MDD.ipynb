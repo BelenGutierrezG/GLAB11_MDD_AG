{
  "cells": [
    {
      "cell_type": "markdown",
      "metadata": {
        "id": "view-in-github",
        "colab_type": "text"
      },
      "source": [
        "<a href=\"https://colab.research.google.com/github/BelenGutierrezG/GLAB11_MDD_AG/blob/develop/lab11_MDD.ipynb\" target=\"_parent\"><img src=\"https://colab.research.google.com/assets/colab-badge.svg\" alt=\"Open In Colab\"/></a>"
      ]
    },
    {
      "cell_type": "code",
      "execution_count": null,
      "id": "aa84672d",
      "metadata": {
        "id": "aa84672d"
      },
      "outputs": [],
      "source": [
        "import numpy as np\n",
        "import random\n",
        "import matplotlib.pyplot as plt\n",
        "import polars as pl\n",
        "from scipy.stats import chi2\n",
        "\n",
        "from deap import algorithms\n",
        "from deap import base\n",
        "from deap import creator\n",
        "from deap import tools\n",
        "\n",
        "from sklearn import linear_model\n",
        "from sklearn.metrics import r2_score\n",
        "from sklearn.model_selection import cross_val_score, train_test_split\n",
        "from sklearn.preprocessing import StandardScaler"
      ]
    },
    {
      "cell_type": "code",
      "execution_count": null,
      "id": "13307f36",
      "metadata": {
        "id": "13307f36",
        "outputId": "7c7c7050-6497-429e-e0a5-f0a7410feea5"
      },
      "outputs": [
        {
          "name": "stdout",
          "output_type": "stream",
          "text": [
            "ALGORITMOS GENÉTICOS Y EVOLUCIÓN DE LA POBLACIÓN\n",
            "LABORATORIO 11\n",
            "Estudiante\n",
            "- Gutierrez Garcia, Angela Belen\n",
            "\n",
            "==================================================\n",
            "==================================================\n",
            "\n",
            "a. Realice el preprocesamiento de la información que incluya el análisis de datos faltantes,tratamiento de outliers a nivel univariado y multivariado y escalamiento de datos para las variables numéricas.\n",
            "\n",
            "Dataset cargado:\n",
            "shape: (5, 4)\n",
            "┌───────┬───────┬───────────┬───────┐\n",
            "│ TV    ┆ Radio ┆ Newspaper ┆ Sales │\n",
            "│ ---   ┆ ---   ┆ ---       ┆ ---   │\n",
            "│ f64   ┆ f64   ┆ f64       ┆ f64   │\n",
            "╞═══════╪═══════╪═══════════╪═══════╡\n",
            "│ 230.1 ┆ 37.8  ┆ 69.2      ┆ 22.1  │\n",
            "│ 44.5  ┆ 39.3  ┆ 45.1      ┆ 10.4  │\n",
            "│ 17.2  ┆ 45.9  ┆ 69.3      ┆ 9.3   │\n",
            "│ 151.5 ┆ 41.3  ┆ 58.5      ┆ 18.5  │\n",
            "│ 180.8 ┆ 10.8  ┆ 58.4      ┆ 12.9  │\n",
            "└───────┴───────┴───────────┴───────┘\n"
          ]
        }
      ],
      "source": [
        "print(f\"ALGORITMOS GENÉTICOS Y EVOLUCIÓN DE LA POBLACIÓN\")\n",
        "print(f\"LABORATORIO 11\")\n",
        "print(f\"Estudiante\")\n",
        "print(f\"- Gutierrez Garcia, Angela Belen / - Hinostroza Martinez, Bryan\")\n",
        "\n",
        "print(f\"\\n{'='*50}\\n{'='*50}\\n\")\n",
        "print(f\"a. Realice el preprocesamiento de la información que incluya el análisis de datos faltantes,tratamiento de outliers a nivel univariado y multivariado y escalamiento de datos para las variables numéricas.\\n\")\n",
        "\n",
        "# Carga del archivo desde Google Drive\n",
        "url = \"https://raw.githubusercontent.com/BelenGutierrezG/LAB11_AG/refs/heads/main/Advertising-1.csv\"\n",
        "\n",
        "df = pl.read_csv(url)\n",
        "print(\"Dataset cargado:\")\n",
        "print(df.head())\n"
      ]
    },
    {
      "cell_type": "code",
      "execution_count": null,
      "id": "9ac17680",
      "metadata": {
        "id": "9ac17680",
        "outputId": "d734178b-429f-4182-d7e8-1798ffacfe91"
      },
      "outputs": [
        {
          "name": "stdout",
          "output_type": "stream",
          "text": [
            "\n",
            "==================================================\n",
            "Análisis de datos faltantes:\n",
            "shape: (1, 4)\n",
            "┌─────┬───────┬───────────┬───────┐\n",
            "│ TV  ┆ Radio ┆ Newspaper ┆ Sales │\n",
            "│ --- ┆ ---   ┆ ---       ┆ ---   │\n",
            "│ u32 ┆ u32   ┆ u32       ┆ u32   │\n",
            "╞═════╪═══════╪═══════════╪═══════╡\n",
            "│ 0   ┆ 0     ┆ 0         ┆ 0     │\n",
            "└─────┴───────┴───────────┴───────┘\n",
            "- No existe ningún dato faltante en ninguna variable\n",
            "\n"
          ]
        }
      ],
      "source": [
        "print(\"\\n\" + \"=\"*50)\n",
        "print(\"Análisis de datos faltantes:\")\n",
        "nulos = df.null_count()\n",
        "print(nulos)\n",
        "print(\"- No existe ningún dato faltante en ninguna variable\\n\")"
      ]
    },
    {
      "cell_type": "code",
      "execution_count": null,
      "id": "99e89aa9",
      "metadata": {
        "id": "99e89aa9",
        "outputId": "aaede212-b319-4ec9-8c64-20df28fed5ac"
      },
      "outputs": [
        {
          "name": "stdout",
          "output_type": "stream",
          "text": [
            "==================================================\n",
            "Tratamiento de outliers univariados:\n",
            "\n",
            "\n",
            "Columna: TV\n",
            "• Q1: 74.70, Q3: 218.50, IQR: 143.80\n",
            "• Límites: [-141.00, 434.20]\n",
            "• Outliers detectados: 0 fila(s)\n",
            "\n",
            "Columna: Radio\n",
            "• Q1: 10.00, Q3: 36.50, IQR: 26.50\n",
            "• Límites: [-29.75, 76.25]\n",
            "• Outliers detectados: 0 fila(s)\n",
            "\n",
            "Columna: Newspaper\n",
            "• Q1: 12.80, Q3: 45.10, IQR: 32.30\n",
            "• Límites: [-35.65, 93.55]\n",
            "• Outliers detectados: 2 fila(s)\n",
            "\n",
            "Columna: Sales\n",
            "• Q1: 10.40, Q3: 17.40, IQR: 7.00\n",
            "• Límites: [-0.10, 27.90]\n",
            "• Outliers detectados: 0 fila(s)\n",
            "\n",
            "Filas eliminadas: 2\n",
            "\n"
          ]
        },
        {
          "name": "stderr",
          "output_type": "stream",
          "text": [
            "C:\\Users\\Belen\\AppData\\Local\\Temp\\ipykernel_26392\\1530119546.py:7: DeprecationWarning: `NUMERIC_DTYPES` was deprecated in version 1.0.0. Define your own data type groups or use the `polars.selectors` module for selecting columns of a certain data type.\n",
            "  for col in df.select(pl.col(pl.NUMERIC_DTYPES)).columns:\n"
          ]
        }
      ],
      "source": [
        "print(\"=\"*50)\n",
        "print(\"Tratamiento de outliers univariados:\\n\")\n",
        "\n",
        "factor_iqr = 1.5\n",
        "mascara = pl.lit(True)\n",
        "\n",
        "for col in df.select(pl.col(pl.NUMERIC_DTYPES)).columns:\n",
        "    q1 = df[col].quantile(0.25)\n",
        "    q3 = df[col].quantile(0.75)\n",
        "    iqr = q3 - q1\n",
        "\n",
        "    limite_inf = q1 - factor_iqr * iqr\n",
        "    limite_sup = q3 + factor_iqr * iqr\n",
        "\n",
        "    print(f\"\\nColumna: {col}\")\n",
        "    print(f\"• Q1: {q1:.2f}, Q3: {q3:.2f}, IQR: {iqr:.2f}\")\n",
        "    print(f\"• Límites: [{limite_inf:.2f}, {limite_sup:.2f}]\")\n",
        "\n",
        "    mascara_col = (pl.col(col) >= limite_inf) & (pl.col(col) <= limite_sup)\n",
        "    mascara = mascara & mascara_col\n",
        "\n",
        "    outliers = df.filter(~mascara_col)\n",
        "    print(f\"• Outliers detectados: {outliers.height} fila(s)\")\n",
        "\n",
        "df1 = df.filter(mascara)\n",
        "print(f\"\\nFilas eliminadas: {df.height - df1.height}\\n\")"
      ]
    },
    {
      "cell_type": "code",
      "execution_count": null,
      "id": "7b609171",
      "metadata": {
        "id": "7b609171",
        "outputId": "14707cef-3148-4fa3-d21a-71dbf1251aa7"
      },
      "outputs": [
        {
          "name": "stdout",
          "output_type": "stream",
          "text": [
            "Outliers multivariados:\n",
            "\n",
            "Umbral de Mahalanobis (95% confianza): 3.0802\n",
            "Outliers detectados: 9\n",
            "DataFrame limpio: 189 filas (eliminados 9 outliers)\n",
            "\n"
          ]
        },
        {
          "name": "stderr",
          "output_type": "stream",
          "text": [
            "C:\\Users\\Belen\\AppData\\Local\\Temp\\ipykernel_26392\\1665230047.py:3: DeprecationWarning: `NUMERIC_DTYPES` was deprecated in version 1.0.0. Define your own data type groups or use the `polars.selectors` module for selecting columns of a certain data type.\n",
            "  n_col = df1.select(pl.col(pl.NUMERIC_DTYPES)).columns\n"
          ]
        }
      ],
      "source": [
        "print(\"Outliers multivariados:\\n\")\n",
        "\n",
        "n_col = df1.select(pl.col(pl.NUMERIC_DTYPES)).columns\n",
        "data = df1.select(pl.col(n_col)).to_numpy()\n",
        "\n",
        "cov_matrix = np.cov(data, rowvar=False)\n",
        "try:\n",
        "    inv_cov_matrix = np.linalg.inv(cov_matrix)\n",
        "except np.linalg.LinAlgError:\n",
        "    inv_cov_matrix = np.linalg.pinv(cov_matrix)\n",
        "\n",
        "mean_vec = np.mean(data, axis=0)\n",
        "diff = data - mean_vec\n",
        "mahalanobis_dist = np.array([np.sqrt(d.dot(inv_cov_matrix).dot(d)) for d in diff])\n",
        "\n",
        "threshold = np.sqrt(chi2.ppf(0.95, df=len(n_col)))\n",
        "print(f\"Umbral de Mahalanobis (95% confianza): {threshold:.4f}\")\n",
        "\n",
        "es_outlier = mahalanobis_dist > threshold\n",
        "outliers_count = np.sum(es_outlier)\n",
        "print(f\"Outliers detectados: {outliers_count}\")\n",
        "\n",
        "df1 = pl.concat([\n",
        "    df1,\n",
        "    pl.DataFrame({\n",
        "        \"mahalanobis\": mahalanobis_dist.tolist(),\n",
        "        \"es_outlier\": es_outlier.tolist()\n",
        "    })\n",
        "], how=\"horizontal\")\n",
        "\n",
        "df_clean = df1.filter(~pl.col(\"es_outlier\"))\n",
        "print(f\"DataFrame limpio: {df_clean.height} filas (eliminados {outliers_count} outliers)\\n\")"
      ]
    },
    {
      "cell_type": "code",
      "execution_count": null,
      "id": "bb928497",
      "metadata": {
        "id": "bb928497",
        "outputId": "491c4e52-eb92-4ae0-c28d-a83db4999c90"
      },
      "outputs": [
        {
          "name": "stdout",
          "output_type": "stream",
          "text": [
            "==================================================\n",
            "==================================================\n",
            "Algoritmo genético para selección de variables:\n",
            "\n",
            "Gen: 1 | Min: 0.0000 | Max: 0.9218 | Avg: 0.4097 | Std: 0.3245\n",
            "Gen: 2 | Min: 0.0000 | Max: 0.9218 | Avg: 0.6393 | Std: 0.2744\n",
            "Gen: 3 | Min: 0.0000 | Max: 0.9218 | Avg: 0.8163 | Std: 0.1844\n",
            "Gen: 4 | Min: 0.3998 | Max: 0.9218 | Avg: 0.9051 | Std: 0.0844\n",
            "Gen: 5 | Min: 0.3998 | Max: 0.9218 | Avg: 0.9051 | Std: 0.0844\n",
            "Gen: 6 | Min: 0.3998 | Max: 0.9218 | Avg: 0.9051 | Std: 0.0844\n",
            "Gen: 7 | Min: 0.3998 | Max: 0.9218 | Avg: 0.9114 | Std: 0.0731\n",
            "Gen: 8 | Min: 0.3998 | Max: 0.9218 | Avg: 0.8905 | Std: 0.1240\n",
            "Gen: 9 | Min: 0.3998 | Max: 0.9218 | Avg: 0.9113 | Std: 0.0731\n",
            "Gen: 10 | Min: 0.3998 | Max: 0.9218 | Avg: 0.9051 | Std: 0.0844\n",
            "Gen: 11 | Min: 0.3998 | Max: 0.9218 | Avg: 0.9114 | Std: 0.0731\n",
            "Gen: 12 | Min: 0.9218 | Max: 0.9218 | Avg: 0.9218 | Std: 0.0000\n",
            "Gen: 13 | Min: 0.9218 | Max: 0.9218 | Avg: 0.9218 | Std: 0.0000\n",
            "Gen: 14 | Min: 0.6547 | Max: 0.9218 | Avg: 0.9164 | Std: 0.0374\n",
            "Gen: 15 | Min: 0.3998 | Max: 0.9218 | Avg: 0.8884 | Std: 0.1170\n",
            "Gen: 16 | Min: 0.6098 | Max: 0.9218 | Avg: 0.9156 | Std: 0.0437\n",
            "Gen: 17 | Min: 0.3998 | Max: 0.9218 | Avg: 0.8947 | Std: 0.1101\n",
            "Gen: 18 | Min: 0.3998 | Max: 0.9218 | Avg: 0.8789 | Std: 0.1337\n",
            "Gen: 19 | Min: 0.9218 | Max: 0.9218 | Avg: 0.9218 | Std: 0.0000\n",
            "Gen: 20 | Min: 0.3998 | Max: 0.9218 | Avg: 0.8842 | Std: 0.1299\n",
            "Gen: 21 | Min: 0.3998 | Max: 0.9218 | Avg: 0.8947 | Std: 0.1101\n"
          ]
        }
      ],
      "source": [
        "print(\"=\"*50 + \"\\n\" + \"=\"*50)\n",
        "print(\"Algoritmo genético para selección de variables:\\n\")\n",
        "\n",
        "X = df_clean.drop([\"Sales\", \"mahalanobis\", \"es_outlier\"]).to_numpy()\n",
        "y = df_clean[\"Sales\"].to_numpy()\n",
        "\n",
        "scaler = StandardScaler()\n",
        "X_scaled = scaler.fit_transform(X)\n",
        "\n",
        "modelo = linear_model.LinearRegression()\n",
        "n_features = X_scaled.shape[1]\n",
        "verbose = 0\n",
        "\n",
        "def calculate_fitness(modelo, x, y):\n",
        "    if x.shape[1] == 0:\n",
        "        return 0.0\n",
        "    try:\n",
        "        scores = cross_val_score(modelo, x, y, cv=5, scoring='r2')\n",
        "        return np.mean(scores)\n",
        "    except:\n",
        "        return 0.0\n",
        "\n",
        "def evaluate(individual):\n",
        "    np_ind = np.asarray(individual)\n",
        "    if np.sum(np_ind) == 0:\n",
        "        return (0.0,)\n",
        "    feature_idx = np.where(np_ind == 1)[0]\n",
        "    fitness = calculate_fitness(modelo, X_scaled[:, feature_idx], y)\n",
        "    return (fitness,)\n",
        "\n",
        "creator.create(\"FeatureSelect\", base.Fitness, weights=(1.0,))\n",
        "creator.create(\"Individual\", list, fitness=creator.FeatureSelect)\n",
        "\n",
        "toolbox = base.Toolbox()\n",
        "toolbox.register(\"attr_bool\", random.randint, 0, 1)\n",
        "toolbox.register(\"individual\", tools.initRepeat, creator.Individual, toolbox.attr_bool, n_features)\n",
        "toolbox.register(\"population\", tools.initRepeat, list, toolbox.individual)\n",
        "\n",
        "toolbox.register(\"mate\", tools.cxTwoPoint)\n",
        "toolbox.register(\"mutate\", tools.mutFlipBit, indpb=0.1)\n",
        "toolbox.register(\"select\", tools.selTournament, tournsize=3)\n",
        "toolbox.register(\"evaluate\", evaluate)\n",
        "\n",
        "N_POP = 50\n",
        "CX_PB = 0.5\n",
        "MUT_PB = 0.2\n",
        "N_GEN = 20\n",
        "\n",
        "def build_stats(gen, pop, fits):\n",
        "    length = len(pop)\n",
        "    mean = sum(fits) / length\n",
        "    sum2 = sum(x * x for x in fits)\n",
        "    std = abs(sum2 / length - mean ** 2) ** 0.5\n",
        "    print(f\"Gen: {gen+1} | Min: {min(fits):.4f} | Max: {max(fits):.4f} | Avg: {mean:.4f} | Std: {std:.4f}\")\n",
        "    return {'gen': gen+1, 'min': min(fits), 'max': max(fits), 'avg': mean, 'std': std}\n",
        "\n",
        "pop = toolbox.population(N_POP)\n",
        "fitnesses = list(map(toolbox.evaluate, pop))\n",
        "\n",
        "for ind, fit in zip(pop, fitnesses):\n",
        "    ind.fitness.values = fit\n",
        "\n",
        "stats_records = []\n",
        "stats_records.append(build_stats(0, pop, [ind.fitness.values[0] for ind in pop]))\n",
        "\n",
        "for g in range(N_GEN):\n",
        "    offspring = toolbox.select(pop, len(pop))\n",
        "    offspring = list(map(toolbox.clone, offspring))\n",
        "\n",
        "    for child1, child2 in zip(offspring[::2], offspring[1::2]):\n",
        "        if random.random() < CX_PB:\n",
        "            toolbox.mate(child1, child2)\n",
        "            del child1.fitness.values, child2.fitness.values\n",
        "\n",
        "    for mutant in offspring:\n",
        "        if random.random() < MUT_PB:\n",
        "            toolbox.mutate(mutant)\n",
        "            del mutant.fitness.values\n",
        "\n",
        "    invalid_ind = [ind for ind in offspring if not ind.fitness.valid]\n",
        "    fitnesses = list(map(toolbox.evaluate, invalid_ind))\n",
        "    for ind, fit in zip(invalid_ind, fitnesses):\n",
        "        ind.fitness.values = fit\n",
        "\n",
        "    pop[:] = offspring\n",
        "    stats_records.append(build_stats(g + 1, pop, [ind.fitness.values[0] for ind in pop]))"
      ]
    },
    {
      "cell_type": "code",
      "execution_count": null,
      "id": "c99f418e",
      "metadata": {
        "id": "c99f418e",
        "outputId": "d3fa9c7e-5629-4fa8-acd4-0e68e0e525ad"
      },
      "outputs": [
        {
          "name": "stdout",
          "output_type": "stream",
          "text": [
            "Mejor individuo: [1, 1, 0]\n",
            "Fitness: 0.9217977803708935\n",
            "Variables seleccionadas: ['TV', 'Radio']\n",
            "\n",
            "R² en entrenamiento: 0.9344\n",
            "R² en prueba: 0.8902\n"
          ]
        }
      ],
      "source": [
        "best_ind = tools.selBest(pop, 1)[0]\n",
        "print(\"Mejor individuo:\", best_ind)\n",
        "print(\"Fitness:\", best_ind.fitness.values[0])\n",
        "\n",
        "feature_names = df_clean.drop([\"Sales\", \"mahalanobis\", \"es_outlier\"]).columns\n",
        "selected_features = np.where(np.array(best_ind) == 1)[0]\n",
        "selected_feature_names = [feature_names[i] for i in selected_features]\n",
        "\n",
        "print(\"Variables seleccionadas:\", selected_feature_names)\n",
        "\n",
        "X_selected = X_scaled[:, selected_features]\n",
        "X_train, X_test, y_train, y_test = train_test_split(X_selected, y, test_size=0.2, random_state=42)\n",
        "\n",
        "modelo_final = linear_model.LinearRegression()\n",
        "modelo_final.fit(X_train, y_train)\n",
        "\n",
        "y_pred_train = modelo_final.predict(X_train)\n",
        "y_pred_test = modelo_final.predict(X_test)\n",
        "\n",
        "r2_train = r2_score(y_train, y_pred_train)\n",
        "r2_test = r2_score(y_test, y_pred_test)\n",
        "\n",
        "print(f\"\\nR² en entrenamiento: {r2_train:.4f}\")\n",
        "print(f\"R² en prueba: {r2_test:.4f}\")"
      ]
    },
    {
      "cell_type": "code",
      "execution_count": null,
      "id": "c7973ae7",
      "metadata": {
        "id": "c7973ae7",
        "outputId": "77ef89d8-3a09-48ae-c795-367db76a4948"
      },
      "outputs": [
        {
          "data": {
            "image/png": "[encoded data removed]",
            "text/plain": [
              "<Figure size 1200x800 with 2 Axes>"
            ]
          },
          "metadata": {},
          "output_type": "display_data"
        }
      ],
      "source": [
        "generations = [record['gen'] for record in stats_records]\n",
        "avg_fitness = [record['avg'] for record in stats_records]\n",
        "max_fitness = [record['max'] for record in stats_records]\n",
        "\n",
        "plt.figure(figsize=(12, 8))\n",
        "\n",
        "plt.subplot(2, 1, 1)\n",
        "plt.plot(generations, avg_fitness, 'b-o', label='Promedio')\n",
        "plt.plot(generations, max_fitness, 'r-o', label='Máximo')\n",
        "plt.xlabel('Generación')\n",
        "plt.ylabel('R² Score')\n",
        "plt.title('Evolución del Algoritmo Genético')\n",
        "plt.legend()\n",
        "plt.grid(True)\n",
        "\n",
        "plt.subplot(2, 1, 2)\n",
        "plt.scatter(y_test, y_pred_test, alpha=0.6)\n",
        "plt.plot([y_test.min(), y_test.max()], [y_test.min(), y_test.max()], 'r--', lw=2)\n",
        "plt.xlabel('Valores Reales')\n",
        "plt.ylabel('Valores Predichos')\n",
        "plt.title(f'Predicciones vs Reales (R² = {r2_test:.4f})')\n",
        "plt.grid(True)\n",
        "\n",
        "plt.tight_layout()\n",
        "plt.show()"
      ]
    },
    {
      "cell_type": "code",
      "execution_count": null,
      "id": "45ad8b4f",
      "metadata": {
        "id": "45ad8b4f",
        "outputId": "11746697-fb0d-4e98-c850-e667e169527f"
      },
      "outputs": [
        {
          "name": "stdout",
          "output_type": "stream",
          "text": [
            "Writing utils.py\n"
          ]
        }
      ],
      "source": [
        "%%writefile utils.py\n",
        "import numpy as np\n",
        "import polars as pl\n",
        "from scipy.stats import chi2\n",
        "from sklearn.model_selection import cross_val_score\n",
        "\n",
        "def eliminar_outliers_univariados(df: pl.DataFrame, factor_iqr: float = 1.5) -> pl.DataFrame:\n",
        "    mascara = pl.lit(True)\n",
        "    for col in df.select(pl.col(pl.NUMERIC_DTYPES)).columns:\n",
        "        q1 = df[col].quantile(0.25)\n",
        "        q3 = df[col].quantile(0.75)\n",
        "        iqr = q3 - q1\n",
        "        limite_inf = q1 - factor_iqr * iqr\n",
        "        limite_sup = q3 + factor_iqr * iqr\n",
        "        mascara_col = (pl.col(col) >= limite_inf) & (pl.col(col) <= limite_sup)\n",
        "        mascara = mascara & mascara_col\n",
        "    return df.filter(mascara)\n",
        "\n",
        "def detectar_outliers_mahalanobis(df: pl.DataFrame, cols: list[str]) -> pl.DataFrame:\n",
        "    data = df.select(cols).to_numpy()\n",
        "    cov_matrix = np.cov(data, rowvar=False)\n",
        "    try:\n",
        "        inv_cov_matrix = np.linalg.inv(cov_matrix)\n",
        "    except np.linalg.LinAlgError:\n",
        "        inv_cov_matrix = np.linalg.pinv(cov_matrix)\n",
        "    mean_vec = np.mean(data, axis=0)\n",
        "    diff = data - mean_vec\n",
        "    mahalanobis_dist = np.array([np.sqrt(d.dot(inv_cov_matrix).dot(d)) for d in diff])\n",
        "    threshold = np.sqrt(chi2.ppf(0.95, df=len(cols)))\n",
        "    es_outlier = mahalanobis_dist > threshold\n",
        "    return pl.concat([\n",
        "        df,\n",
        "        pl.DataFrame({\n",
        "            \"mahalanobis\": mahalanobis_dist.tolist(),\n",
        "            \"es_outlier\": es_outlier.tolist()\n",
        "        })\n",
        "    ], how=\"horizontal\")\n",
        "\n",
        "def filtrar_outliers(df: pl.DataFrame) -> pl.DataFrame:\n",
        "    return df.filter(~pl.col(\"es_outlier\"))\n",
        "\n",
        "def calcular_fitness(modelo, x, y):\n",
        "    if x.shape[1] == 0:\n",
        "        return 0.0\n",
        "    try:\n",
        "        scores = cross_val_score(modelo, x, y, cv=5, scoring='r2')\n",
        "        return np.mean(scores)\n",
        "    except:\n",
        "        return 0.0\n",
        "\n",
        "def evaluar_individuo(individual, modelo, X_scaled, y):\n",
        "    np_ind = np.asarray(individual)\n",
        "    if np.sum(np_ind) == 0:\n",
        "        return (0.0,)\n",
        "    feature_idx = np.where(np_ind == 1)[0]\n",
        "    fitness = calcular_fitness(modelo, X_scaled[:, feature_idx], y)\n",
        "    return (fitness,)"
      ]
    },
    {
      "cell_type": "code",
      "execution_count": null,
      "id": "5b06b66e",
      "metadata": {
        "id": "5b06b66e",
        "outputId": "04d91aad-69aa-4dee-a01f-8acde9052b31"
      },
      "outputs": [
        {
          "name": "stderr",
          "output_type": "stream",
          "text": [
            "C:\\Users\\Belen\\AppData\\Local\\Temp\\ipykernel_17476\\286502507.py:20: DeprecationWarning: `NUMERIC_DTYPES` was deprecated in version 1.0.0. Define your own data type groups or use the `polars.selectors` module for selecting columns of a certain data type.\n",
            "  numericas = df_clean.select(pl.col(pl.NUMERIC_DTYPES)).columns\n"
          ]
        },
        {
          "name": "stdout",
          "output_type": "stream",
          "text": [
            "Mejor individuo: [1, 1, 0]\n",
            "Fitness: 0.9217977803708935\n",
            "R² Train: 0.9344206094476246\n",
            "R² Test: 0.890237978034004\n"
          ]
        }
      ],
      "source": [
        "import numpy as np\n",
        "import polars as pl\n",
        "import matplotlib.pyplot as plt\n",
        "from sklearn import linear_model\n",
        "from sklearn.model_selection import train_test_split\n",
        "from sklearn.preprocessing import StandardScaler\n",
        "from deap import base, creator, tools, algorithms\n",
        "import random\n",
        "\n",
        "from utils import eliminar_outliers_univariados, detectar_outliers_mahalanobis, filtrar_outliers, evaluar_individuo\n",
        "\n",
        "# A. Preprocesamiento de Datos\n",
        "url = \"https://raw.githubusercontent.com/BelenGutierrezG/LAB11_AG/refs/heads/main/Advertising-1.csv\"\n",
        "df = pl.read_csv(url)\n",
        "\n",
        "# Tratamiento univariado\n",
        "df_clean = eliminar_outliers_univariados(df)\n",
        "\n",
        "# Tratamiento multivariado\n",
        "numericas = df_clean.select(pl.col(pl.NUMERIC_DTYPES)).columns\n",
        "df_clean = detectar_outliers_mahalanobis(df_clean, numericas)\n",
        "df_clean = filtrar_outliers(df_clean)\n",
        "\n",
        "# B. Preparación de datos\n",
        "X = df_clean.drop([\"Sales\", \"mahalanobis\", \"es_outlier\"]).to_numpy()\n",
        "y = df_clean[\"Sales\"].to_numpy()\n",
        "\n",
        "scaler = StandardScaler()\n",
        "X_scaled = scaler.fit_transform(X)\n",
        "\n",
        "# C. Algoritmo Genético\n",
        "modelo = linear_model.LinearRegression()\n",
        "n_features = X_scaled.shape[1]\n",
        "\n",
        "creator.create(\"FitnessMax\", base.Fitness, weights=(1.0,))\n",
        "creator.create(\"Individual\", list, fitness=creator.FitnessMax)\n",
        "\n",
        "toolbox = base.Toolbox()\n",
        "toolbox.register(\"attr_bool\", random.randint, 0, 1)\n",
        "toolbox.register(\"individual\", tools.initRepeat, creator.Individual, toolbox.attr_bool, n=n_features)\n",
        "toolbox.register(\"population\", tools.initRepeat, list, toolbox.individual)\n",
        "toolbox.register(\"mate\", tools.cxTwoPoint)\n",
        "toolbox.register(\"mutate\", tools.mutFlipBit, indpb=0.1)\n",
        "toolbox.register(\"select\", tools.selTournament, tournsize=3)\n",
        "toolbox.register(\"evaluate\", lambda ind: evaluar_individuo(ind, modelo, X_scaled, y))\n",
        "\n",
        "N_POP = 50\n",
        "N_GEN = 20\n",
        "CX_PB = 0.5\n",
        "MUT_PB = 0.2\n",
        "\n",
        "pop = toolbox.population(N_POP)\n",
        "\n",
        "fitnesses = list(map(toolbox.evaluate, pop))\n",
        "for ind, fit in zip(pop, fitnesses):\n",
        "    ind.fitness.values = fit\n",
        "\n",
        "for g in range(N_GEN):\n",
        "    offspring = toolbox.select(pop, len(pop))\n",
        "    offspring = list(map(toolbox.clone, offspring))\n",
        "\n",
        "    for child1, child2 in zip(offspring[::2], offspring[1::2]):\n",
        "        if random.random() < CX_PB:\n",
        "            toolbox.mate(child1, child2)\n",
        "            del child1.fitness.values, child2.fitness.values\n",
        "\n",
        "    for mutant in offspring:\n",
        "        if random.random() < MUT_PB:\n",
        "            toolbox.mutate(mutant)\n",
        "            del mutant.fitness.values\n",
        "\n",
        "    invalid_ind = [ind for ind in offspring if not ind.fitness.valid]\n",
        "    fitnesses = list(map(toolbox.evaluate, invalid_ind))\n",
        "    for ind, fit in zip(invalid_ind, fitnesses):\n",
        "        ind.fitness.values = fit\n",
        "\n",
        "    pop[:] = offspring\n",
        "\n",
        "best_ind = tools.selBest(pop, 1)[0]\n",
        "print(\"Mejor individuo:\", best_ind)\n",
        "print(\"Fitness:\", best_ind.fitness.values[0])\n",
        "\n",
        "# Evaluación final\n",
        "selected_features = np.where(np.array(best_ind) == 1)[0]\n",
        "X_selected = X_scaled[:, selected_features]\n",
        "\n",
        "X_train, X_test, y_train, y_test = train_test_split(X_selected, y, test_size=0.2, random_state=42)\n",
        "modelo.fit(X_train, y_train)\n",
        "\n",
        "print(\"R² Train:\", modelo.score(X_train, y_train))\n",
        "print(\"R² Test:\", modelo.score(X_test, y_test))\n"
      ]
    },
    {
      "cell_type": "code",
      "execution_count": null,
      "id": "f359e6e7",
      "metadata": {
        "id": "f359e6e7",
        "outputId": "63c3508a-1ed3-4313-9ed6-675c0b598731"
      },
      "outputs": [
        {
          "name": "stderr",
          "output_type": "stream",
          "text": [
            "\"import\" no se reconoce como un comando interno o externo,\n",
            "programa o archivo por lotes ejecutable.\n"
          ]
        }
      ],
      "source": [
        "!import pytest"
      ]
    },
    {
      "cell_type": "code",
      "execution_count": null,
      "id": "70def7f6",
      "metadata": {
        "id": "70def7f6",
        "outputId": "31cbad3e-dd3a-4614-82f5-f918a0814309"
      },
      "outputs": [
        {
          "name": "stdout",
          "output_type": "stream",
          "text": [
            "Writing test_utils.py\n"
          ]
        }
      ],
      "source": [
        "%%writefile test_utils.py\n",
        "import pytest\n",
        "import polars as pl\n",
        "import numpy as np\n",
        "from utils import eliminar_outliers_univariados, detectar_outliers_mahalanobis, filtrar_outliers, calcular_fitness\n",
        "\n",
        "def test_eliminar_outliers_univariados():\n",
        "    df = pl.DataFrame({\n",
        "        \"A\": [1, 2, 3, 100],\n",
        "        \"B\": [5, 6, 7, -99]\n",
        "    })\n",
        "    result = eliminar_outliers_univariados(df)\n",
        "    assert result.height == 3\n",
        "\n",
        "def test_detectar_outliers_mahalanobis():\n",
        "    df = pl.DataFrame({\n",
        "        \"X\": [1, 2, 3, 100],\n",
        "        \"Y\": [1, 2, 3, -100]\n",
        "    })\n",
        "    result = detectar_outliers_mahalanobis(df, [\"X\", \"Y\"])\n",
        "    assert \"mahalanobis\" in result.columns\n",
        "    assert \"es_outlier\" in result.columns\n",
        "    assert result.height == 4\n",
        "\n",
        "def test_filtrar_outliers():\n",
        "    df = pl.DataFrame({\n",
        "        \"A\": [1, 2, 3],\n",
        "        \"mahalanobis\": [0.1, 0.2, 0.3],\n",
        "        \"es_outlier\": [False, True, False]\n",
        "    })\n",
        "    result = filtrar_outliers(df)\n",
        "    assert result.height == 2\n",
        "    assert all(result[\"es_outlier\"] == [False, False])\n",
        "\n",
        "def test_calcular_fitness_valido():\n",
        "    from sklearn.linear_model import LinearRegression\n",
        "    x = np.array([[1], [2], [3], [4]])\n",
        "    y = np.array([2, 4, 6, 8])\n",
        "    model = LinearRegression()\n",
        "    fitness = calcular_fitness(model, x, y)\n",
        "    assert 0.9 <= fitness <= 1.01\n",
        "\n",
        "def test_calcular_fitness_nulo():\n",
        "    from sklearn.linear_model import LinearRegression\n",
        "    x = np.empty((4, 0))\n",
        "    y = np.array([2, 4, 6, 8])\n",
        "    model = LinearRegression()\n",
        "    fitness = calcular_fitness(model, x, y)\n",
        "    assert fitness == 0.0\n"
      ]
    },
    {
      "cell_type": "code",
      "execution_count": null,
      "id": "d8be8b93",
      "metadata": {
        "id": "d8be8b93",
        "outputId": "da916579-e4a7-4f9b-99ec-27c64f67c6b8"
      },
      "outputs": [
        {
          "name": "stdout",
          "output_type": "stream",
          "text": [
            "\u001b[1m============================= test session starts =============================\u001b[0m\n",
            "platform win32 -- Python 3.13.3, pytest-8.3.5, pluggy-1.6.0\n",
            "rootdir: c:\\LABORATORIOS TECSUP\\LAB11_MDD_AG\n",
            "collected 5 items\n",
            "\n",
            "test_utils.py \u001b[32m.\u001b[0m\u001b[32m.\u001b[0m\u001b[32m.\u001b[0m\u001b[31mF\u001b[0m\u001b[32m.\u001b[0m\u001b[31m                                                      [100%]\u001b[0m\n",
            "\n",
            "================================== FAILURES ===================================\n",
            "\u001b[31m\u001b[1m________________________ test_calcular_fitness_valido _________________________\u001b[0m\n",
            "\n",
            "    \u001b[0m\u001b[94mdef\u001b[39;49;00m\u001b[90m \u001b[39;49;00m\u001b[92mtest_calcular_fitness_valido\u001b[39;49;00m():\u001b[90m\u001b[39;49;00m\n",
            "        \u001b[94mfrom\u001b[39;49;00m\u001b[90m \u001b[39;49;00m\u001b[04m\u001b[96msklearn\u001b[39;49;00m\u001b[04m\u001b[96m.\u001b[39;49;00m\u001b[04m\u001b[96mlinear_model\u001b[39;49;00m\u001b[90m \u001b[39;49;00m\u001b[94mimport\u001b[39;49;00m LinearRegression\u001b[90m\u001b[39;49;00m\n",
            "        x = np.array([[\u001b[94m1\u001b[39;49;00m], [\u001b[94m2\u001b[39;49;00m], [\u001b[94m3\u001b[39;49;00m], [\u001b[94m4\u001b[39;49;00m]])\u001b[90m\u001b[39;49;00m\n",
            "        y = np.array([\u001b[94m2\u001b[39;49;00m, \u001b[94m4\u001b[39;49;00m, \u001b[94m6\u001b[39;49;00m, \u001b[94m8\u001b[39;49;00m])\u001b[90m\u001b[39;49;00m\n",
            "        model = LinearRegression()\u001b[90m\u001b[39;49;00m\n",
            "        fitness = calcular_fitness(model, x, y)\u001b[90m\u001b[39;49;00m\n",
            ">       \u001b[94massert\u001b[39;49;00m \u001b[94m0.9\u001b[39;49;00m <= fitness <= \u001b[94m1.01\u001b[39;49;00m\u001b[90m\u001b[39;49;00m\n",
            "\u001b[1m\u001b[31mE       assert 0.9 <= 0.0\u001b[0m\n",
            "\n",
            "\u001b[1m\u001b[31mtest_utils.py\u001b[0m:40: AssertionError\n",
            "\u001b[33m============================== warnings summary ===============================\u001b[0m\n",
            "test_utils.py::test_eliminar_outliers_univariados\n",
            "  c:\\LABORATORIOS TECSUP\\LAB11_MDD_AG\\utils.py:8: DeprecationWarning: `NUMERIC_DTYPES` was deprecated in version 1.0.0. Define your own data type groups or use the `polars.selectors` module for selecting columns of a certain data type.\n",
            "    for col in df.select(pl.col(pl.NUMERIC_DTYPES)).columns:\n",
            "\n",
            "-- Docs: https://docs.pytest.org/en/stable/how-to/capture-warnings.html\n",
            "\u001b[36m\u001b[1m=========================== short test summary info ===========================\u001b[0m\n",
            "\u001b[31mFAILED\u001b[0m test_utils.py::\u001b[1mtest_calcular_fitness_valido\u001b[0m - assert 0.9 <= 0.0\n",
            "\u001b[31m=================== \u001b[31m\u001b[1m1 failed\u001b[0m, \u001b[32m4 passed\u001b[0m, \u001b[33m1 warning\u001b[0m\u001b[31m in 1.62s\u001b[0m\u001b[31m ====================\u001b[0m\n"
          ]
        }
      ],
      "source": [
        "!pytest test_utils.py\n"
      ]
    }
  ],
  "metadata": {
    "kernelspec": {
      "display_name": ".venv",
      "language": "python",
      "name": "python3"
    },
    "language_info": {
      "codemirror_mode": {
        "name": "ipython",
        "version": 3
      },
      "file_extension": ".py",
      "mimetype": "text/x-python",
      "name": "python",
      "nbconvert_exporter": "python",
      "pygments_lexer": "ipython3",
      "version": "3.13.3"
    },
    "colab": {
      "provenance": [],
      "include_colab_link": true
    }
  },
  "nbformat": 4,
  "nbformat_minor": 5
}